{
  "nbformat": 4,
  "nbformat_minor": 0,
  "metadata": {
    "colab": {
      "provenance": []
    },
    "kernelspec": {
      "name": "python3",
      "display_name": "Python 3"
    },
    "language_info": {
      "name": "python"
    }
  },
  "cells": [
    {
      "cell_type": "markdown",
      "source": [
        "# Theory Questions:"
      ],
      "metadata": {
        "id": "-ada0sWC1zxV"
      }
    },
    {
      "cell_type": "markdown",
      "source": [
        "**1. What is the difference between a function and a method in Python?**\n",
        "\n",
        "ans-\n",
        "\n",
        "*   A function is independent and can be defined anywhere in the code. method is similar to a function but is associated with an object.\n",
        "*   function canbe called directly using its name but method called on an object using the syntax (object.method()).\n",
        "\n",
        "*   Functions are defined using the def keyword but Methods are defined inside a class.\n",
        "*   They can take arguments and return values but method often take self as the first parameter, which refers to the instance of the class.\n",
        "\n",
        "\n",
        "\n"
      ],
      "metadata": {
        "id": "hnPwHOH7omIo"
      }
    },
    {
      "cell_type": "code",
      "source": [
        "# example of function\n",
        "def greet(name):\n",
        "    return f\"Hello, {name}!\"\n",
        "\n",
        "print(greet(\"Raj\"))\n"
      ],
      "metadata": {
        "colab": {
          "base_uri": "https://localhost:8080/"
        },
        "id": "clj5SvC-X2YS",
        "outputId": "acbf82fd-7aae-423c-f7dd-ac3a0cfcf023"
      },
      "execution_count": null,
      "outputs": [
        {
          "output_type": "stream",
          "name": "stdout",
          "text": [
            "Hello, Raj!\n"
          ]
        }
      ]
    },
    {
      "cell_type": "code",
      "source": [
        "# example of method\n",
        "class Greeter:\n",
        "    def __init__(self, name):\n",
        "        self.name = name\n",
        "\n",
        "    def greet(self):\n",
        "        return f\"Hello, {self.name}!\"\n",
        "\n",
        "greeter = Greeter(\"Raj\")\n",
        "print(greeter.greet())\n"
      ],
      "metadata": {
        "colab": {
          "base_uri": "https://localhost:8080/"
        },
        "id": "eAKoxj0QYAhB",
        "outputId": "c4ffe226-3fc7-4db7-a565-abe7d9f83230"
      },
      "execution_count": null,
      "outputs": [
        {
          "output_type": "stream",
          "name": "stdout",
          "text": [
            "Hello, Raj!\n"
          ]
        }
      ]
    },
    {
      "cell_type": "markdown",
      "source": [
        "**2. Explain the concept of function arguments and parameters in Python.**\n",
        "\n",
        "ans- **Arguments:**\n",
        "\n",
        "\n",
        "*   Arguments are the actual values passed to the function when you call it.\n",
        "*   They fill in the parameters defined in the function and allow the function to execute with real data.\n",
        "\n",
        " **parameters:**\n",
        "\n",
        "*   Parameters are placeholders defined in the function declaration.\n",
        "*   they act as variables that will receive values when the function is\n",
        "called.\n",
        "*   Parameters are specified inside the parentheses when defining the function.\n",
        "\n",
        "\n",
        "\n",
        "\n",
        "\n"
      ],
      "metadata": {
        "id": "3Wo-OKgGsvS5"
      }
    },
    {
      "cell_type": "code",
      "source": [
        "def greet(name):\n",
        "  print(\"Hello\",name) # 'name' is a parameter\n",
        "\n",
        "print(greet(\"Raj\"))  # \"Raj\" is an argument\n",
        "\n"
      ],
      "metadata": {
        "colab": {
          "base_uri": "https://localhost:8080/"
        },
        "id": "J44ivpIitmA0",
        "outputId": "dc78f69a-9110-4d9a-a58e-5b31dd690e8e"
      },
      "execution_count": null,
      "outputs": [
        {
          "output_type": "stream",
          "name": "stdout",
          "text": [
            "Hello Raj\n",
            "None\n"
          ]
        }
      ]
    },
    {
      "cell_type": "markdown",
      "source": [
        "**3.What are the different ways to define and call a function in Python?**\n",
        "\n",
        "ans-\n",
        "\n",
        "1. **Standard Function:** Define a function using the \"def\" keyword, followed by the function name and parameters (if any). Call it by its name.\n",
        "2. **Default Arguments:** Define a function with default values for parameters. If no value is provided during the call, the default value is used.\n",
        "3. **Keyword Arguments:** Call a function using argument names explicitly, allowing for flexibility in the order of arguments.\n",
        "4. **Lambda Functions:** Use \"lambda\" to create a simple, one-line function without a name.\n",
        "\n",
        "\n",
        "\n",
        "\n",
        "\n",
        "\n",
        "\n",
        "\n"
      ],
      "metadata": {
        "id": "2JjXMA1lsBbu"
      }
    },
    {
      "cell_type": "code",
      "source": [
        "#Standard Function example\n",
        "def greet(name):\n",
        "    return f\"Hello, {name}!\"\n",
        "\n",
        "# Calling the function\n",
        "print(greet(\"Raj\"))\n"
      ],
      "metadata": {
        "colab": {
          "base_uri": "https://localhost:8080/"
        },
        "id": "n0jMMjcKv9Bi",
        "outputId": "57ada747-e1d5-43db-f93b-c5c21286608d"
      },
      "execution_count": null,
      "outputs": [
        {
          "output_type": "stream",
          "name": "stdout",
          "text": [
            "Hello, Raj!\n"
          ]
        }
      ]
    },
    {
      "cell_type": "code",
      "source": [
        "#Default Arguments example\n",
        "def greet(name=\"User\"):\n",
        "    return f\"Hello, {name}!\"\n",
        "\n",
        "# Calling the function\n",
        "print(greet())          # Uses default value\n",
        "print(greet(\"Raj\"))     # Overrides default value\n"
      ],
      "metadata": {
        "colab": {
          "base_uri": "https://localhost:8080/"
        },
        "id": "5S_Oxf07v82l",
        "outputId": "f10a168e-5a2d-4bf4-f292-2e01273fd721"
      },
      "execution_count": null,
      "outputs": [
        {
          "output_type": "stream",
          "name": "stdout",
          "text": [
            "Hello, User!\n",
            "Hello, Raj!\n"
          ]
        }
      ]
    },
    {
      "cell_type": "code",
      "source": [
        "#Keyword Arguments example\n",
        "def describe_person(name, age):\n",
        "    return f\"{name} is {age} years old.\"\n",
        "\n",
        "# Calling the function\n",
        "print(describe_person(age=22, name=\"Raj\"))\n"
      ],
      "metadata": {
        "colab": {
          "base_uri": "https://localhost:8080/"
        },
        "id": "PiygdgLuv8pM",
        "outputId": "6d2fc071-a906-43d9-f792-d4cd0495fc0f"
      },
      "execution_count": null,
      "outputs": [
        {
          "output_type": "stream",
          "name": "stdout",
          "text": [
            "Raj is 22 years old.\n"
          ]
        }
      ]
    },
    {
      "cell_type": "code",
      "source": [
        "#Lambda Functions example\n",
        "square = lambda x: x * x\n",
        "\n",
        "# Calling the lambda function\n",
        "print(square(5))\n"
      ],
      "metadata": {
        "colab": {
          "base_uri": "https://localhost:8080/"
        },
        "id": "FpScN75fwN-s",
        "outputId": "86088987-9292-4e64-cbee-f6a71eacbcce"
      },
      "execution_count": null,
      "outputs": [
        {
          "output_type": "stream",
          "name": "stdout",
          "text": [
            "25\n"
          ]
        }
      ]
    },
    {
      "cell_type": "markdown",
      "source": [
        "**4. What is the purpose of the `return` statement in a Python function?**\n",
        "\n",
        "ans-The return statement in a Python function serves as a way to send a result or output back to the part of the program that called the function. It essentially \"ends\" the function execution and optionally provides a value that can be used or stored for further processing."
      ],
      "metadata": {
        "id": "toUDkwIsx34r"
      }
    },
    {
      "cell_type": "code",
      "source": [
        "def add(a, b):\n",
        "    return a + b\n",
        "\n",
        "result = add(5, 3)\n",
        "print(result)\n"
      ],
      "metadata": {
        "id": "jK4mJRGW6CHH"
      },
      "execution_count": null,
      "outputs": []
    },
    {
      "cell_type": "markdown",
      "source": [
        "**5. What are iterators in Python and how do they differ from iterables?**\n",
        "\n",
        "ans-\n",
        "\n",
        "* **Iterables:** An iterable is any object in Python that can be \"iterated\"\n",
        "over—meaning you can loop through its elements one by one. Examples of iterables include lists, strings, tuples, dictionaries, and sets.\n",
        "   \n",
        "\n",
        "* **Iterators:**\n",
        "An iterator is a special object that represents a stream of data. It is used to iterate over (or access) the elements of an iterable one at a time.\n",
        "\n",
        "**Key Differences:**\n",
        "\n",
        "\n",
        "\n",
        "*  in Iterable An object that can be iterated over but in Iterator An object that keeps state and produces the next item\n",
        "*  Iterable Used in loops (for, while, etc.) but Iterator\tUsed with next() function.\n",
        "*   Iterable Has __iter__()\tbut Iterator Has both __iter__() and __next__().\n",
        "\n",
        "\n",
        "\n",
        "\n"
      ],
      "metadata": {
        "id": "5OMRz1Kf6FiB"
      }
    },
    {
      "cell_type": "code",
      "source": [
        "#Example of an Iterable\n",
        "my_list = [1, 2, 3]\n",
        "for item in my_list:  # my_list is iterable\n",
        "    print(item)\n"
      ],
      "metadata": {
        "colab": {
          "base_uri": "https://localhost:8080/"
        },
        "id": "moRbvFP9TaRc",
        "outputId": "5ff50e54-8672-46e0-9cbc-f6e5c5c1ba9d"
      },
      "execution_count": null,
      "outputs": [
        {
          "output_type": "stream",
          "name": "stdout",
          "text": [
            "1\n",
            "2\n",
            "3\n"
          ]
        }
      ]
    },
    {
      "cell_type": "code",
      "source": [
        "#Example of an Iterator\n",
        "my_list = [1, 2, 3]\n",
        "iterator = iter(my_list)  # Convert the iterable to an iterator\n",
        "\n",
        "print(next(iterator))\n",
        "print(next(iterator))\n",
        "print(next(iterator))\n"
      ],
      "metadata": {
        "colab": {
          "base_uri": "https://localhost:8080/"
        },
        "id": "Gvu-_gWgTinV",
        "outputId": "75a417e3-ae05-4452-8bd8-604ca4f733ec"
      },
      "execution_count": null,
      "outputs": [
        {
          "output_type": "stream",
          "name": "stdout",
          "text": [
            "1\n",
            "2\n",
            "3\n"
          ]
        }
      ]
    },
    {
      "cell_type": "markdown",
      "source": [
        "**6.Explain the concept of generators in Python and how they are defined.**\n",
        "\n",
        "ans-A generator in Python is a special type of iterator that allows you to iterate over a sequence of values lazily (one at a time) without storing them all in memory. This makes generators memory-efficient and useful for working with large datasets.\n",
        "\n",
        "Generators are defined using the \"yield\" keyword instead of \"return\". Unlike normal functions, which execute completely and return a value, a generator pauses its execution when it encounters \"yield\" and resumes from the same point when called again."
      ],
      "metadata": {
        "id": "RKih0ByGTzRd"
      }
    },
    {
      "cell_type": "code",
      "source": [
        "# example of Generator\n",
        "def my_generator():\n",
        "    yield 1\n",
        "    yield 2\n",
        "    yield 3\n",
        "\n",
        "gen = my_generator()  # Creates a generator object\n",
        "\n",
        "print(next(gen))\n",
        "print(next(gen))\n",
        "print(next(gen))\n"
      ],
      "metadata": {
        "colab": {
          "base_uri": "https://localhost:8080/"
        },
        "id": "5Jq4EVKrVT4W",
        "outputId": "fa3080e1-75ba-4000-abdd-247617726bf3"
      },
      "execution_count": null,
      "outputs": [
        {
          "output_type": "stream",
          "name": "stdout",
          "text": [
            "1\n",
            "2\n",
            "3\n"
          ]
        }
      ]
    },
    {
      "cell_type": "markdown",
      "source": [
        "**7. What are the advantages of using generators over regular functions?**\n",
        "\n",
        "ans- **A. Memory Efficiency (Lazy Evaluation):**\n",
        "\n",
        "* Generators yield values one at a time using the yield keyword, rather than storing all results in memory at once.\n",
        "\n",
        "* This makes them ideal for working with large datasets or streams of data.\n",
        "\n",
        "**B. Improved Performance:**\n",
        "\n",
        "* Since generators produce values on demand, they reduce the overhead of creating and storing large data structures.\n",
        "\n",
        "* This can lead to faster execution times and lower memory consumption.\n",
        "\n",
        "**C.Simpler Code for Iterators:**\n",
        "* Writing a generator is simpler than defining a custom iterator class with __iter__() and __next__().\n",
        "\n",
        "* Generators automatically maintain their state between calls, eliminating the need for explicit bookkeeping.\n",
        "\n",
        "**D. Better Readability:**\n",
        "* Generators can make complex iteration logic more readable compared to manually managing state with loops and lists."
      ],
      "metadata": {
        "id": "wYHGjOfcV5Hg"
      }
    },
    {
      "cell_type": "code",
      "source": [
        "# Generator Function example :\n",
        "\n",
        "def generate_squares(n):\n",
        "    for i in range(n):\n",
        "        yield i ** 2\n",
        "\n",
        "gen = generate_squares(5)\n",
        "print(list(gen))\n"
      ],
      "metadata": {
        "colab": {
          "base_uri": "https://localhost:8080/"
        },
        "id": "wdgkve9F3zSz",
        "outputId": "c78ed2ac-824a-40da-e2a3-475f6740c2a4"
      },
      "execution_count": null,
      "outputs": [
        {
          "output_type": "stream",
          "name": "stdout",
          "text": [
            "[0, 1, 4, 9, 16]\n"
          ]
        }
      ]
    },
    {
      "cell_type": "markdown",
      "source": [
        "**8. What is a lambda function in Python and when is it typically used?**\n",
        "\n",
        "ans-A lambda function in Python is an anonymous function (i.e., a function without a name) defined using the \"lambda\" keyword. It is typically used for small, one-time, and simple operations where defining a full function using \"def\" would be unnecessary.\n",
        "\n",
        "**When to Use :**\n",
        "1. When you need a short, simple function without defining a full function.\n",
        "2. When using higher-order functions like map(), filter(), or sorted().\n",
        "3. When working with inline functions in GUI applications or event handling."
      ],
      "metadata": {
        "id": "7Doqtttm4Kg4"
      }
    },
    {
      "cell_type": "code",
      "source": [
        "square = lambda x: x ** 2\n",
        "print(square(5))\n"
      ],
      "metadata": {
        "colab": {
          "base_uri": "https://localhost:8080/"
        },
        "id": "Trh5Um2s6C8_",
        "outputId": "54cd4092-08de-4317-8514-d63cd3e728c9"
      },
      "execution_count": null,
      "outputs": [
        {
          "output_type": "stream",
          "name": "stdout",
          "text": [
            "25\n"
          ]
        }
      ]
    },
    {
      "cell_type": "markdown",
      "source": [
        "**9.Explain the purpose and usage of the `map()` function in Python.**\n",
        "\n",
        "ans- **Purpose of map():**\n",
        "1. **Transformation:** It helps transform the elements of a collection without requiring explicit loops.\n",
        "\n",
        "2. **Efficiency**: Since it returns an iterator (a memory-efficient object), it is faster and consumes less memory when handling large datasets compared to traditional loops.\n",
        "\n",
        "3. **Conciseness:** By using map(), you can achieve more concise and readable code.\n",
        "\n",
        "**Usage of map():**\n",
        "\n",
        "Here is the syntax for the map() function:\n",
        "\n",
        "* function: The function to apply to the elements of the iterable.\n",
        "\n",
        "* iterable: The iterable whose elements you want to transform.\n",
        "\n",
        "The map() function returns an iterator, so you often use list() or other methods to convert it to a usable format, like a list or tuple.\n",
        "\n"
      ],
      "metadata": {
        "id": "NKeDo5ml6Q-K"
      }
    },
    {
      "cell_type": "code",
      "source": [
        "# Example: Using map()\n",
        "\n",
        "numbers = [1, 2, 3, 4, 5]\n",
        "\n",
        "# Use map to apply a lambda function that squares each number\n",
        "squared_numbers = map(lambda x: x**2, numbers)\n",
        "\n",
        "# Convert the result to a list\n",
        "print(list(squared_numbers))\n"
      ],
      "metadata": {
        "colab": {
          "base_uri": "https://localhost:8080/"
        },
        "id": "FFFaUphK9DlL",
        "outputId": "2c4a6d8a-9451-4abc-b2ba-46feee0e79d3"
      },
      "execution_count": null,
      "outputs": [
        {
          "output_type": "stream",
          "name": "stdout",
          "text": [
            "[1, 4, 9, 16, 25]\n"
          ]
        }
      ]
    },
    {
      "cell_type": "markdown",
      "source": [
        "**10. What is the difference between `map()`, `reduce()`, and `filter()` functions in Python?**\n",
        "\n",
        "ans-\n",
        " 1. 'map()'\n",
        "\n",
        "* Purpose: Applies a function to each element of an iterable and returns a new iterable (a map object).\n",
        "\n",
        "* Returns: A map object (which can be converted to a list, tuple, etc.).\n",
        "\n",
        "2.  'filter()'\n",
        "\n",
        "* Purpose: Filters elements in an iterable based on a boolean function.\n",
        "\n",
        "* Returns: A filter object (which can be converted to a list, tuple, etc.).\n",
        "3. 'reduce()'\n",
        "* Purpose: Reduces an iterable to a single accumulated value by applying a function cumulatively.\n",
        "\n",
        "* Returns: A single value."
      ],
      "metadata": {
        "id": "W5qUWl91TY4G"
      }
    },
    {
      "cell_type": "code",
      "source": [
        "# map example\n",
        "numbers = [1, 2, 3, 4, 5]\n",
        "squared = map(lambda x: x**2, numbers)\n",
        "print(list(squared))\n"
      ],
      "metadata": {
        "id": "crJ8dqktBCeG"
      },
      "execution_count": null,
      "outputs": []
    },
    {
      "cell_type": "code",
      "source": [
        "# filter example\n",
        "numbers = [1, 2, 3, 4, 5, 6]\n",
        "even_numbers = filter(lambda x: x % 2 == 0, numbers)\n",
        "print(list(even_numbers))\n"
      ],
      "metadata": {
        "id": "-xALkWb2BMfc"
      },
      "execution_count": null,
      "outputs": []
    },
    {
      "cell_type": "code",
      "source": [
        "# reduce example\n",
        "from functools import reduce\n",
        "\n",
        "numbers = [1, 2, 3, 4, 5]\n",
        "product = reduce(lambda x, y: x * y, numbers)\n",
        "print(product)\n"
      ],
      "metadata": {
        "id": "JzYHeH5nBUnO"
      },
      "execution_count": null,
      "outputs": []
    },
    {
      "cell_type": "markdown",
      "source": [
        "**11. Using pen & Paper write the internal mechanism for sum operation using  reduce function on this given\n",
        "list:[47,11,42,13];**\n",
        "\n",
        "ans-![WhatsApp Image 2025-04-03 at 21.21.37_f48c172d.jpg](data:image/jpeg;base64,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)"
      ],
      "metadata": {
        "id": "LPfdg6oiNZRa"
      }
    },
    {
      "cell_type": "code",
      "source": [
        "# example of sum operation using reduce function:\n",
        "\n",
        "from functools import reduce\n",
        "\n",
        "l = [47,11,42,13]\n",
        "\n",
        "reduce(lambda x , y : x+y,l)"
      ],
      "metadata": {
        "colab": {
          "base_uri": "https://localhost:8080/"
        },
        "id": "vlCIA-dDLJnT",
        "outputId": "a0f024c0-b925-4829-ad16-45776862ab0b"
      },
      "execution_count": null,
      "outputs": [
        {
          "output_type": "execute_result",
          "data": {
            "text/plain": [
              "113"
            ]
          },
          "metadata": {},
          "execution_count": 1
        }
      ]
    },
    {
      "cell_type": "markdown",
      "source": [
        "# Practical Questions:"
      ],
      "metadata": {
        "id": "4fvZi_q51rpL"
      }
    },
    {
      "cell_type": "markdown",
      "source": [
        "**1. Write a Python function that takes a list of numbers as input and returns the sum of all even numbers in\n",
        "the list.**"
      ],
      "metadata": {
        "id": "JPOpbfttsefc"
      }
    },
    {
      "cell_type": "code",
      "source": [
        "def sum_of_evens (number):\n",
        "    # Initialize the sum\n",
        "    even_sum = 0\n",
        "\n",
        "# Iterate through each number in the list\n",
        "    for num in number:\n",
        "        if num%2==0:  # # Check if the number is even\n",
        "            even_sum+=num\n",
        "\n",
        "    return even_sum\n",
        "\n",
        "# Example\n",
        "number_list = [1,2,3,4,5,6]\n",
        "result = sum_of_evens(number_list)\n",
        "print(result)"
      ],
      "metadata": {
        "colab": {
          "base_uri": "https://localhost:8080/"
        },
        "id": "F7y0Zr6Use-L",
        "outputId": "56b61da3-f7ca-44fe-c25f-2d6337b1d8c7"
      },
      "execution_count": null,
      "outputs": [
        {
          "output_type": "stream",
          "name": "stdout",
          "text": [
            "12\n"
          ]
        }
      ]
    },
    {
      "cell_type": "markdown",
      "source": [
        "**2. Create a Python function that accepts a string and returns the reverse of that string.**"
      ],
      "metadata": {
        "id": "Ch062_ey2CJp"
      }
    },
    {
      "cell_type": "code",
      "source": [
        "def reversed_string (string): # create a function\n",
        "    reverse = \"\" #create an empty string\n",
        "\n",
        " #loop through each character in the string\n",
        "    for char in string:\n",
        "        reverse = char+reverse #add each character into the empty string\n",
        "    return reverse\n",
        "\n",
        "\n",
        "# Taking input and calling the function\n",
        "input_string = input(\"enter a string: \")\n",
        "\n",
        "result = reversed_string(input_string)\n",
        "\n",
        "print(\"Reversed string:\",result)\n"
      ],
      "metadata": {
        "id": "1BHi7aQc2Cgo",
        "colab": {
          "base_uri": "https://localhost:8080/"
        },
        "outputId": "60dca42c-bc32-4fd7-c8e8-afb485e8aca5"
      },
      "execution_count": null,
      "outputs": [
        {
          "output_type": "stream",
          "name": "stdout",
          "text": [
            "enter a string: RAJ\n",
            "Reversed string: JAR\n"
          ]
        }
      ]
    },
    {
      "cell_type": "markdown",
      "source": [
        "**3.Implement a Python function that takes a list of integers and returns a new list containing the squares of\n",
        "each number.**"
      ],
      "metadata": {
        "id": "qkMb-gmKp8gh"
      }
    },
    {
      "cell_type": "code",
      "source": [
        "def squares_of_numbers(numbers):\n",
        "    squared_numbers = []  # Use a list to store all squared numbers\n",
        "\n",
        "#loop through each number in the list\n",
        "    for num in numbers:\n",
        "        squared_numbers.append(num**2)  # Append each squared number to the list\n",
        "    return squared_numbers  # Return the list of squared numbers\n",
        "\n",
        "# Taking input and calling the function\n",
        "numbers = [10, 20, 30, 40, 50]\n",
        "\n",
        "result = squares_of_numbers(numbers)\n",
        "\n",
        "print(\"Squared numbers:\", result)\n"
      ],
      "metadata": {
        "id": "vijhdtFPqFOF"
      },
      "execution_count": null,
      "outputs": []
    },
    {
      "cell_type": "markdown",
      "source": [
        "**4. Write a Python function that checks if a given number is prime or not from 1 to 200.**"
      ],
      "metadata": {
        "id": "8GJCvM_Fnt2W"
      }
    },
    {
      "cell_type": "code",
      "source": [
        "def is_prime(n):\n",
        "    #Check if a number is prime within the range of 1 to 200.\n",
        "    if n < 2 or n > 200:\n",
        "        return False\n",
        "    for i in range(2, n):  # Check divisibility from 2 to n-1\n",
        "        if n % i == 0:\n",
        "            return False\n",
        "    return True\n",
        "\n",
        "\n",
        "for num in range(1, 201):\n",
        "    if is_prime(num):\n",
        "        print(num, \"is a prime number\")\n",
        "\n",
        "    else:\n",
        "        print(num,\"is not a prime number\")"
      ],
      "metadata": {
        "id": "f0cdWIIPnuWm"
      },
      "execution_count": null,
      "outputs": []
    },
    {
      "cell_type": "markdown",
      "source": [
        "**5. Create an iterator class in Python that generates the Fibonacci sequence up to a specified number of\n",
        "terms.**"
      ],
      "metadata": {
        "id": "Silmwq8Ayq_P"
      }
    },
    {
      "cell_type": "code",
      "source": [
        "def generate_fibonacci(n):\n",
        "    first = 0\n",
        "    second = 1\n",
        "    for i in range(n):\n",
        "        yield first\n",
        "        first, second = second, first + second\n",
        "\n",
        "# Example usage:\n",
        "for number in generate_fibonacci(8):\n",
        "    print(number)\n"
      ],
      "metadata": {
        "id": "YUiobY8vxqUu",
        "colab": {
          "base_uri": "https://localhost:8080/"
        },
        "outputId": "5c8bf704-fa38-4f11-9817-0821f0e46dbe"
      },
      "execution_count": null,
      "outputs": [
        {
          "output_type": "stream",
          "name": "stdout",
          "text": [
            "0\n",
            "1\n",
            "1\n",
            "2\n",
            "3\n",
            "5\n",
            "8\n",
            "13\n"
          ]
        }
      ]
    },
    {
      "cell_type": "markdown",
      "source": [
        "**6. Write a generator function in Python that yields the powers of 2 up to a given exponent.**"
      ],
      "metadata": {
        "id": "X7IQwG6q6EKv"
      }
    },
    {
      "cell_type": "code",
      "source": [
        "def powers_of_two(max_exponent):\n",
        "    for exponent in range(max_exponent + 1):  # Include the given exponent\n",
        "        yield 2 ** exponent  # Calculate and yield 2 raised to the power of `exponent`\n",
        "\n",
        "# Example usage:\n",
        "for power in powers_of_two(6):\n",
        "    print(power)\n"
      ],
      "metadata": {
        "colab": {
          "base_uri": "https://localhost:8080/"
        },
        "id": "wlrmbxhN47bS",
        "outputId": "48828e53-24b4-46fb-967d-9558afac8d70"
      },
      "execution_count": null,
      "outputs": [
        {
          "output_type": "stream",
          "name": "stdout",
          "text": [
            "1\n",
            "2\n",
            "4\n",
            "8\n",
            "16\n",
            "32\n",
            "64\n"
          ]
        }
      ]
    },
    {
      "cell_type": "markdown",
      "source": [
        "**7. Implement a generator function that reads a file line by line and yields each line as a string.**"
      ],
      "metadata": {
        "id": "XMK11msDY5Fd"
      }
    },
    {
      "cell_type": "code",
      "source": [
        "def read_file_line_by_line(file_path):\n",
        "    with open(file_path, 'r') as file:\n",
        "        for line in file:\n",
        "            yield line\n",
        "\n",
        "# Example usage:\n",
        "for line in read_file_line_by_line('example.txt'):\n",
        "    print(line)\n"
      ],
      "metadata": {
        "id": "U0m3i6IIY4x7"
      },
      "execution_count": null,
      "outputs": []
    },
    {
      "cell_type": "markdown",
      "source": [
        "**8.Use a lambda function in Python to sort a list of tuples based on the second element of each tuple.**"
      ],
      "metadata": {
        "id": "ARD5HcXn6rhi"
      }
    },
    {
      "cell_type": "code",
      "source": [
        "# list of tuples\n",
        "tuples_list = [(1, 3), (4, 1), (2, 5), (3, 2)]\n",
        "\n",
        "# Sort the list using a lambda function\n",
        "sorted_list = sorted(tuples_list, key=lambda x: x[1])\n",
        "\n",
        "print(sorted_list)\n"
      ],
      "metadata": {
        "colab": {
          "base_uri": "https://localhost:8080/"
        },
        "id": "Z8dBRO9v6xGH",
        "outputId": "2b0239e3-afcd-4cf1-97f9-765dacdacb4d"
      },
      "execution_count": null,
      "outputs": [
        {
          "output_type": "stream",
          "name": "stdout",
          "text": [
            "[(4, 1), (3, 2), (1, 3), (2, 5)]\n"
          ]
        }
      ]
    },
    {
      "cell_type": "markdown",
      "source": [
        "**9.Write a Python program that uses `map()` to convert a list of temperatures from Celsius to Fahrenheit.**"
      ],
      "metadata": {
        "id": "7wKgZeC1FIh7"
      }
    },
    {
      "cell_type": "code",
      "source": [
        "# Function to convert Celsius to Fahrenheit\n",
        "\n",
        "def temp(x):\n",
        "    return (x * 9 / 5 ) + 32\n",
        "\n",
        "# List of temperatures in Celsius\n",
        "x = [25, 32, 48, 55]\n",
        "\n",
        "# Print the converted temperatures\n",
        "result = list(map(temp,x))\n",
        "\n",
        "print(result)"
      ],
      "metadata": {
        "colab": {
          "base_uri": "https://localhost:8080/"
        },
        "id": "OMjOVGREFI8a",
        "outputId": "86414d40-6346-4706-8e49-8c2d809ed8e2"
      },
      "execution_count": null,
      "outputs": [
        {
          "output_type": "stream",
          "name": "stdout",
          "text": [
            "[77.0, 89.6, 118.4, 131.0]\n"
          ]
        }
      ]
    },
    {
      "cell_type": "markdown",
      "source": [
        "**10. Create a Python program that uses `filter()` to remove all the vowels from a given string.**"
      ],
      "metadata": {
        "id": "VdJ9IVSELr1m"
      }
    },
    {
      "cell_type": "code",
      "source": [
        "#input string\n",
        "input_string = input(\"input a string:\")\n",
        "\n",
        "# Using filter with lambda\n",
        "result = ''.join(filter(lambda char: char not in \"AEIOUaeiou\", input_string))\n",
        "\n",
        "print(\"String without vowels:\", result)\n"
      ],
      "metadata": {
        "id": "JDGDi_TBLv_F"
      },
      "execution_count": null,
      "outputs": []
    },
    {
      "cell_type": "markdown",
      "source": [
        "**11.Imagine an accounting routine used in a book shop. It works on a list with sublists, which look like this:\n",
        "Write a Python program, which returns a list with 2-tuples. Each tuple consists of the order number and the\n",
        "product of the price per item and the quantity. The product should be increased by 10,- € if the value of the\n",
        "order is smaller than 100,00 €.\n",
        "Write a Python program using lambda and map.**"
      ],
      "metadata": {
        "id": "OCBoFX1XhnJ4"
      }
    },
    {
      "cell_type": "code",
      "source": [
        "# input given data in a list\n",
        "orders = [\n",
        "    [34587, \"Learning Python , Mark lutz ,\", 4, 40.95],\n",
        "    [98762, \"Programming python, mark lutz\", 5, 56.80],\n",
        "    [77226, \"Head first python, Baul barry\", 3, 32.95],\n",
        "    [88112, \"einfuhrung in python, Bernd klein\", 3, 24.99]\n",
        "]\n",
        "\n",
        "#Using map with lambda\n",
        "order_totals = list(map(lambda order: (order[0], max(order[2] * order[3], 100) if order[2] * order[3] >= 100 else order[2] * order[3] + 10), orders))\n",
        "\n",
        "\n",
        "print(order_totals)"
      ],
      "metadata": {
        "colab": {
          "base_uri": "https://localhost:8080/"
        },
        "id": "B5t5vJLXSh7p",
        "outputId": "301e0aab-ffb9-4628-8973-98632c4a77a1"
      },
      "execution_count": null,
      "outputs": [
        {
          "output_type": "stream",
          "name": "stdout",
          "text": [
            "[(34587, 163.8), (98762, 284.0), (77226, 108.85000000000001), (88112, 84.97)]\n"
          ]
        }
      ]
    }
  ]
}